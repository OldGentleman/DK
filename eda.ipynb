{
 "cells": [
  {
   "cell_type": "markdown",
   "metadata": {},
   "source": [
    "# Imports"
   ]
  },
  {
   "cell_type": "code",
   "execution_count": 1,
   "metadata": {},
   "outputs": [],
   "source": [
    "import numpy as np\n",
    "import pandas as pd\n",
    "import matplotlib.pyplot as plt\n",
    "import seaborn as sns"
   ]
  },
  {
   "cell_type": "code",
   "execution_count": 78,
   "metadata": {},
   "outputs": [],
   "source": [
    "from sklearn.model_selection import train_test_split\n",
    "from sklearn.linear_model import LogisticRegression\n",
    "\n",
    "from sklearn.model_selection import cross_val_score\n",
    "from sklearn import metrics\n",
    "from sklearn.metrics import r2_score\n",
    "from sklearn.model_selection import ShuffleSplit\n",
    "from sklearn.impute import KNNImputer"
   ]
  },
  {
   "cell_type": "code",
   "execution_count": 3,
   "metadata": {},
   "outputs": [],
   "source": [
    "import catboost as cb\n",
    "from catboost import CatBoostRegressor"
   ]
  },
  {
   "cell_type": "markdown",
   "metadata": {},
   "source": [
    "# Data loading"
   ]
  },
  {
   "cell_type": "code",
   "execution_count": 41,
   "metadata": {},
   "outputs": [],
   "source": [
    "raw_data = pd.read_csv('data/olx_house_price_Q122.csv')"
   ]
  },
  {
   "cell_type": "markdown",
   "metadata": {},
   "source": [
    "Features description: <br/>\n",
    "offer_title: offer title <br/>\n",
    "price: price in PLN <br/>\n",
    "price_per_meter: price in PLN for square meter <br/>\n",
    "offer_type: as value name <br/>\n",
    "floor: floor number for -1 --> basement, 0 --> Ground Floor, 10 --> floor 10+, 11 --> attic <br/>\n",
    "area: area in square meters\n",
    "rooms: number of rooms for 4 --> rooms 4+ <br/>\n",
    "offer_type_of_building: as value name <br/>\n",
    "market: as value name <br/>\n",
    "city_name: name of city where home is <br/>\n",
    "voivodeship: name of voivodeship where home is <br/>\n",
    "month: data download month <br/>\n",
    "year: data download year <br/>\n",
    "population: city population where home is <br/>\n",
    "longitude``latitude: city coordinates <br/>"
   ]
  },
  {
   "cell_type": "code",
   "execution_count": 6,
   "metadata": {},
   "outputs": [
    {
     "data": {
      "text/plain": [
       "(62818, 16)"
      ]
     },
     "execution_count": 6,
     "metadata": {},
     "output_type": "execute_result"
    }
   ],
   "source": [
    "raw_data.shape"
   ]
  },
  {
   "cell_type": "markdown",
   "metadata": {},
   "source": [
    "# Vars"
   ]
  },
  {
   "cell_type": "code",
   "execution_count": 43,
   "metadata": {},
   "outputs": [],
   "source": [
    "target_column =['price']\n",
    "subtarget_cut_column = ['offer_title']\n",
    "number_columns = ['floor',  'area', 'rooms', 'population', 'longitude', 'latitude']\n",
    "cat_columns = ['offer_type', 'offer_type_of_building', 'market', 'city_name', 'voivodeship']\n",
    "date_columns = ['month']"
   ]
  },
  {
   "cell_type": "markdown",
   "metadata": {},
   "source": [
    "# Preprocessing"
   ]
  },
  {
   "cell_type": "code",
   "execution_count": 65,
   "metadata": {},
   "outputs": [],
   "source": [
    "data = raw_data.copy()"
   ]
  },
  {
   "cell_type": "markdown",
   "metadata": {},
   "source": [
    "## Area, price, price_per_meter nans"
   ]
  },
  {
   "cell_type": "code",
   "execution_count": 60,
   "metadata": {},
   "outputs": [
    {
     "data": {
      "text/plain": [
       "(1487, 16)"
      ]
     },
     "execution_count": 60,
     "metadata": {},
     "output_type": "execute_result"
    }
   ],
   "source": [
    "data[data['area'].isna()].shape"
   ]
  },
  {
   "cell_type": "code",
   "execution_count": 46,
   "metadata": {},
   "outputs": [
    {
     "data": {
      "text/plain": [
       "(0, 16)"
      ]
     },
     "execution_count": 46,
     "metadata": {},
     "output_type": "execute_result"
    }
   ],
   "source": [
    "data[data['price'].isna()].shape"
   ]
  },
  {
   "cell_type": "code",
   "execution_count": 47,
   "metadata": {},
   "outputs": [
    {
     "data": {
      "text/plain": [
       "(0, 16)"
      ]
     },
     "execution_count": 47,
     "metadata": {},
     "output_type": "execute_result"
    }
   ],
   "source": [
    "data[data['price_per_meter'].isna()].shape"
   ]
  },
  {
   "cell_type": "markdown",
   "metadata": {},
   "source": [
    "## Fill nan area"
   ]
  },
  {
   "cell_type": "code",
   "execution_count": 68,
   "metadata": {},
   "outputs": [],
   "source": [
    "data['area'] = data['area'].fillna(data['price']/data['price_per_meter'])"
   ]
  },
  {
   "cell_type": "code",
   "execution_count": 69,
   "metadata": {},
   "outputs": [
    {
     "data": {
      "text/html": [
       "<div>\n",
       "<style scoped>\n",
       "    .dataframe tbody tr th:only-of-type {\n",
       "        vertical-align: middle;\n",
       "    }\n",
       "\n",
       "    .dataframe tbody tr th {\n",
       "        vertical-align: top;\n",
       "    }\n",
       "\n",
       "    .dataframe thead th {\n",
       "        text-align: right;\n",
       "    }\n",
       "</style>\n",
       "<table border=\"1\" class=\"dataframe\">\n",
       "  <thead>\n",
       "    <tr style=\"text-align: right;\">\n",
       "      <th></th>\n",
       "      <th>offer_title</th>\n",
       "      <th>price</th>\n",
       "      <th>price_per_meter</th>\n",
       "      <th>offer_type</th>\n",
       "      <th>floor</th>\n",
       "      <th>area</th>\n",
       "      <th>rooms</th>\n",
       "      <th>offer_type_of_building</th>\n",
       "      <th>market</th>\n",
       "      <th>city_name</th>\n",
       "      <th>voivodeship</th>\n",
       "      <th>month</th>\n",
       "      <th>year</th>\n",
       "      <th>population</th>\n",
       "      <th>longitude</th>\n",
       "      <th>latitude</th>\n",
       "    </tr>\n",
       "  </thead>\n",
       "  <tbody>\n",
       "  </tbody>\n",
       "</table>\n",
       "</div>"
      ],
      "text/plain": [
       "Empty DataFrame\n",
       "Columns: [offer_title, price, price_per_meter, offer_type, floor, area, rooms, offer_type_of_building, market, city_name, voivodeship, month, year, population, longitude, latitude]\n",
       "Index: []"
      ]
     },
     "execution_count": 69,
     "metadata": {},
     "output_type": "execute_result"
    }
   ],
   "source": [
    "data[data['area'].isna()]"
   ]
  },
  {
   "cell_type": "markdown",
   "metadata": {},
   "source": [
    "## Checking correct of price per meter & price"
   ]
  },
  {
   "cell_type": "code",
   "execution_count": 13,
   "metadata": {},
   "outputs": [],
   "source": [
    "data['price_per_meter_calculated'] = data['price']/data['area']\n",
    "data['price_per_meter_calculated'] = np.floor(data['price_per_meter_calculated'])\n",
    "data['price_per_meter'] = np.floor(data['price_per_meter'])"
   ]
  },
  {
   "cell_type": "code",
   "execution_count": 14,
   "metadata": {},
   "outputs": [
    {
     "data": {
      "text/html": [
       "<div>\n",
       "<style scoped>\n",
       "    .dataframe tbody tr th:only-of-type {\n",
       "        vertical-align: middle;\n",
       "    }\n",
       "\n",
       "    .dataframe tbody tr th {\n",
       "        vertical-align: top;\n",
       "    }\n",
       "\n",
       "    .dataframe thead th {\n",
       "        text-align: right;\n",
       "    }\n",
       "</style>\n",
       "<table border=\"1\" class=\"dataframe\">\n",
       "  <thead>\n",
       "    <tr style=\"text-align: right;\">\n",
       "      <th></th>\n",
       "      <th>price_per_meter_calculated</th>\n",
       "      <th>price_per_meter</th>\n",
       "    </tr>\n",
       "  </thead>\n",
       "  <tbody>\n",
       "  </tbody>\n",
       "</table>\n",
       "</div>"
      ],
      "text/plain": [
       "Empty DataFrame\n",
       "Columns: [price_per_meter_calculated, price_per_meter]\n",
       "Index: []"
      ]
     },
     "execution_count": 14,
     "metadata": {},
     "output_type": "execute_result"
    }
   ],
   "source": [
    "data[((data['price_per_meter_calculated']-data['price_per_meter'])>1) | ((data['price_per_meter_calculated']-data['price_per_meter'])<-2)][['price_per_meter_calculated', 'price_per_meter']]"
   ]
  },
  {
   "cell_type": "markdown",
   "metadata": {},
   "source": [
    "Everything look allright"
   ]
  },
  {
   "cell_type": "markdown",
   "metadata": {},
   "source": [
    "## Anomaly areas"
   ]
  },
  {
   "cell_type": "markdown",
   "metadata": {},
   "source": [
    "Low price per square meter"
   ]
  },
  {
   "cell_type": "code",
   "execution_count": 15,
   "metadata": {},
   "outputs": [
    {
     "data": {
      "text/plain": [
       "(72, 17)"
      ]
     },
     "execution_count": 15,
     "metadata": {},
     "output_type": "execute_result"
    }
   ],
   "source": [
    "data[data['area']>1000].shape"
   ]
  },
  {
   "cell_type": "markdown",
   "metadata": {},
   "source": [
    ">300 < 1000 looks good"
   ]
  },
  {
   "cell_type": "code",
   "execution_count": 16,
   "metadata": {},
   "outputs": [
    {
     "data": {
      "text/plain": [
       "(60, 17)"
      ]
     },
     "execution_count": 16,
     "metadata": {},
     "output_type": "execute_result"
    }
   ],
   "source": [
    "data[(data['area']>300) & (data['area']<=1000)].shape"
   ]
  },
  {
   "cell_type": "code",
   "execution_count": 76,
   "metadata": {},
   "outputs": [],
   "source": [
    "data = data[data['area']<1000]"
   ]
  },
  {
   "cell_type": "markdown",
   "metadata": {},
   "source": [
    "## Year in the data set is uninformable, cause it is a constant value <br/>\n",
    "## price_per_meter is the same as out target value price"
   ]
  },
  {
   "cell_type": "markdown",
   "metadata": {},
   "source": [
    "## offer_title droping"
   ]
  },
  {
   "cell_type": "code",
   "execution_count": 70,
   "metadata": {},
   "outputs": [
    {
     "data": {
      "text/plain": [
       "array([2022])"
      ]
     },
     "execution_count": 70,
     "metadata": {},
     "output_type": "execute_result"
    }
   ],
   "source": [
    "data['year'].unique()"
   ]
  },
  {
   "cell_type": "code",
   "execution_count": 71,
   "metadata": {},
   "outputs": [],
   "source": [
    "data = data.drop(columns=['year', 'price_per_meter', 'offer_title'])"
   ]
  },
  {
   "cell_type": "markdown",
   "metadata": {},
   "source": [
    "## nans"
   ]
  },
  {
   "cell_type": "code",
   "execution_count": 72,
   "metadata": {},
   "outputs": [],
   "source": [
    "data['offer_type_of_building'] = data['offer_type_of_building'].fillna('Unknown')"
   ]
  },
  {
   "cell_type": "markdown",
   "metadata": {},
   "source": [
    "## floors nans"
   ]
  },
  {
   "cell_type": "code",
   "execution_count": 73,
   "metadata": {},
   "outputs": [
    {
     "data": {
      "text/plain": [
       "array([ 1.,  2.,  3.,  5.,  4., nan,  0.,  9.,  7.,  6., 10.,  8., 11.,\n",
       "       -1.])"
      ]
     },
     "execution_count": 73,
     "metadata": {},
     "output_type": "execute_result"
    }
   ],
   "source": [
    "data['floor'].unique()"
   ]
  },
  {
   "cell_type": "markdown",
   "metadata": {},
   "source": [
    "dummy"
   ]
  },
  {
   "cell_type": "code",
   "execution_count": 81,
   "metadata": {},
   "outputs": [],
   "source": [
    "def undummify(df, prefix_sep=\"_\"):\n",
    "    cols2collapse = {\n",
    "        item.rsplit(prefix_sep, 1)[0]: (prefix_sep in item) for item in df.columns\n",
    "    }\n",
    "    series_list = []\n",
    "    for col, needs_to_collapse in cols2collapse.items():\n",
    "        if needs_to_collapse:\n",
    "            undummified = (\n",
    "                df.filter(like=col)\n",
    "                .idxmax(axis=1)\n",
    "                .apply(lambda x: x.rsplit(prefix_sep, 1)[1])\n",
    "                .rename(col)\n",
    "            )\n",
    "            series_list.append(undummified)\n",
    "        else:\n",
    "            series_list.append(df[col])\n",
    "    undummified_df = pd.concat(series_list, axis=1)\n",
    "    return undummified_df"
   ]
  },
  {
   "cell_type": "code",
   "execution_count": 86,
   "metadata": {},
   "outputs": [],
   "source": [
    "data_dummy = pd.get_dummies(data)"
   ]
  },
  {
   "cell_type": "code",
   "execution_count": 87,
   "metadata": {},
   "outputs": [],
   "source": [
    "dummy_columns = data_dummy.columns"
   ]
  },
  {
   "cell_type": "code",
   "execution_count": 88,
   "metadata": {},
   "outputs": [],
   "source": [
    "imputer = KNNImputer(n_neighbors=5)\n",
    "data_dummy = imputer.fit_transform(data_dummy)"
   ]
  },
  {
   "cell_type": "code",
   "execution_count": 89,
   "metadata": {},
   "outputs": [],
   "source": [
    "data_dummy = pd.DataFrame(data_dummy, columns=dummy_columns)"
   ]
  },
  {
   "cell_type": "code",
   "execution_count": 90,
   "metadata": {},
   "outputs": [],
   "source": [
    "data_dummy = undummify(data_dummy)"
   ]
  },
  {
   "cell_type": "code",
   "execution_count": 93,
   "metadata": {},
   "outputs": [],
   "source": [
    "data = data_dummy"
   ]
  },
  {
   "cell_type": "markdown",
   "metadata": {},
   "source": [
    "# Correlation"
   ]
  },
  {
   "cell_type": "code",
   "execution_count": 21,
   "metadata": {},
   "outputs": [
    {
     "data": {
      "image/png": "[encoded data removed]",
      "text/plain": [
       "<Figure size 1296x864 with 2 Axes>"
      ]
     },
     "metadata": {
      "needs_background": "light"
     },
     "output_type": "display_data"
    }
   ],
   "source": [
    "plt.figure(figsize=(18, 12))\n",
    "sns.heatmap(data.corr(), annot=True)\n",
    "plt.show()"
   ]
  },
  {
   "cell_type": "markdown",
   "metadata": {},
   "source": [
    "# Lineplot numeric/target"
   ]
  },
  {
   "cell_type": "code",
   "execution_count": 22,
   "metadata": {},
   "outputs": [],
   "source": [
    "# fig, axes = plt.subplots(2, 3, figsize=(25,12))\n",
    "# axes = axes.flatten()\n",
    "# for ax, num_c in zip(axes, number_columns):\n",
    "#     sns.lineplot(data=data, x=num_c, y='price', ax=ax)\n",
    "# plt.show()"
   ]
  },
  {
   "cell_type": "markdown",
   "metadata": {},
   "source": [
    "# Categoril features"
   ]
  },
  {
   "cell_type": "markdown",
   "metadata": {},
   "source": [
    "## Dependence between long/lang and city"
   ]
  },
  {
   "cell_type": "code",
   "execution_count": 25,
   "metadata": {},
   "outputs": [],
   "source": [
    "ll_c = data['city_name'].value_counts()[data['city_name'].value_counts()> 500]\n",
    "# ll_c"
   ]
  },
  {
   "cell_type": "code",
   "execution_count": 26,
   "metadata": {},
   "outputs": [
    {
     "data": {
      "text/plain": [
       "<AxesSubplot:xlabel='longitude', ylabel='latitude'>"
      ]
     },
     "execution_count": 26,
     "metadata": {},
     "output_type": "execute_result"
    },
    {
     "name": "stderr",
     "output_type": "stream",
     "text": [
      "/home/dzmitry/.local/lib/python3.9/site-packages/matplotlib/backends/backend_agg.py:240: RuntimeWarning: Glyph 129 missing from current font.\n",
      "  font.set_text(s, 0.0, flags=flags)\n",
      "/home/dzmitry/.local/lib/python3.9/site-packages/matplotlib/backends/backend_agg.py:203: RuntimeWarning: Glyph 129 missing from current font.\n",
      "  font.set_text(s, 0, flags=flags)\n"
     ]
    },
    {
     "data": {
      "image/png": "[encoded data removed]",
      "text/plain": [
       "<Figure size 864x504 with 1 Axes>"
      ]
     },
     "metadata": {
      "needs_background": "light"
     },
     "output_type": "display_data"
    }
   ],
   "source": [
    "plt.figure(figsize=(12, 7))\n",
    "sns.scatterplot(data=data[data['city_name'].isin(ll_c.index)], x='longitude', y='latitude', style='city_name')"
   ]
  },
  {
   "cell_type": "markdown",
   "metadata": {},
   "source": [
    "100% dependece between Long, lat and city"
   ]
  },
  {
   "cell_type": "code",
   "execution_count": 27,
   "metadata": {},
   "outputs": [
    {
     "data": {
      "text/html": [
       "<div>\n",
       "<style scoped>\n",
       "    .dataframe tbody tr th:only-of-type {\n",
       "        vertical-align: middle;\n",
       "    }\n",
       "\n",
       "    .dataframe tbody tr th {\n",
       "        vertical-align: top;\n",
       "    }\n",
       "\n",
       "    .dataframe thead th {\n",
       "        text-align: right;\n",
       "    }\n",
       "</style>\n",
       "<table border=\"1\" class=\"dataframe\">\n",
       "  <thead>\n",
       "    <tr style=\"text-align: right;\">\n",
       "      <th></th>\n",
       "      <th>price</th>\n",
       "      <th>offer_type</th>\n",
       "      <th>floor</th>\n",
       "      <th>area</th>\n",
       "      <th>rooms</th>\n",
       "      <th>offer_type_of_building</th>\n",
       "      <th>market</th>\n",
       "      <th>city_name</th>\n",
       "      <th>voivodeship</th>\n",
       "      <th>month</th>\n",
       "      <th>population</th>\n",
       "      <th>longitude</th>\n",
       "      <th>latitude</th>\n",
       "    </tr>\n",
       "  </thead>\n",
       "  <tbody>\n",
       "    <tr>\n",
       "      <th>0</th>\n",
       "      <td>240000.0</td>\n",
       "      <td>Private</td>\n",
       "      <td>1.0</td>\n",
       "      <td>27.0</td>\n",
       "      <td>1</td>\n",
       "      <td>Housing Block</td>\n",
       "      <td>primary</td>\n",
       "      <td>BolesĹ‚awiec</td>\n",
       "      <td>Lower Silesia</td>\n",
       "      <td>January</td>\n",
       "      <td>39603</td>\n",
       "      <td>15.565105</td>\n",
       "      <td>51.263033</td>\n",
       "    </tr>\n",
       "    <tr>\n",
       "      <th>1</th>\n",
       "      <td>250000.0</td>\n",
       "      <td>Private</td>\n",
       "      <td>1.0</td>\n",
       "      <td>35.0</td>\n",
       "      <td>1</td>\n",
       "      <td>Housing Block</td>\n",
       "      <td>primary</td>\n",
       "      <td>Jelcz-Laskowice</td>\n",
       "      <td>Lower Silesia</td>\n",
       "      <td>January</td>\n",
       "      <td>15828</td>\n",
       "      <td>17.349964</td>\n",
       "      <td>51.039831</td>\n",
       "    </tr>\n",
       "  </tbody>\n",
       "</table>\n",
       "</div>"
      ],
      "text/plain": [
       "      price offer_type  floor  area  rooms offer_type_of_building   market  \\\n",
       "0  240000.0    Private    1.0  27.0      1          Housing Block  primary   \n",
       "1  250000.0    Private    1.0  35.0      1          Housing Block  primary   \n",
       "\n",
       "         city_name    voivodeship    month  population  longitude   latitude  \n",
       "0     BolesĹ‚awiec  Lower Silesia  January       39603  15.565105  51.263033  \n",
       "1  Jelcz-Laskowice  Lower Silesia  January       15828  17.349964  51.039831  "
      ]
     },
     "execution_count": 27,
     "metadata": {},
     "output_type": "execute_result"
    }
   ],
   "source": [
    "data.head(2)"
   ]
  },
  {
   "cell_type": "code",
   "execution_count": 28,
   "metadata": {},
   "outputs": [],
   "source": [
    "ll_data = data[['offer_type', 'floor', 'area', 'rooms',\n",
    "       'offer_type_of_building', 'market', 'voivodeship', 'month',\n",
    "       'population', 'longitude', 'latitude']]\n",
    "ll_target = data['price']\n",
    "c_data = data[['offer_type', 'floor', 'area', 'rooms',\n",
    "       'offer_type_of_building', 'market', 'voivodeship', 'month',\n",
    "       'population', 'city_name']]\n",
    "c_target = data['price']\n",
    "f_data = data[['offer_type', 'floor', 'area', 'rooms',\n",
    "       'offer_type_of_building', 'market', 'voivodeship', 'month',\n",
    "       'population', 'longitude', 'latitude', 'city_name']]\n",
    "f_target = data['price']\n",
    "ll_without_voiv_data = data[['offer_type', 'floor', 'area', 'rooms',\n",
    "       'offer_type_of_building', 'market', 'month',\n",
    "       'population', 'longitude', 'latitude']]\n",
    "ll_without_voiv_target = data['price']"
   ]
  },
  {
   "cell_type": "code",
   "execution_count": 29,
   "metadata": {},
   "outputs": [],
   "source": [
    "ll_features_indecies = [0, 4, 5, 6, 7]\n",
    "c_features_indecies = [0, 4, 5, 6, 7, 9]\n",
    "f_features_indecies = [0, 4, 5, 6, 7, 11]\n",
    "ll_without_voiv_indecies = [0, 4, 5, 6]"
   ]
  },
  {
   "cell_type": "code",
   "execution_count": 30,
   "metadata": {},
   "outputs": [],
   "source": [
    "params_cv_city = {\"iterations\": 30,\n",
    "          \"depth\": 10,\n",
    "          \"loss_function\": \"RMSE\",\n",
    "          \"random_state\": 5,\n",
    "          \"learning_rate\": 1}"
   ]
  },
  {
   "cell_type": "code",
   "execution_count": 31,
   "metadata": {},
   "outputs": [],
   "source": [
    "city_scores = []"
   ]
  },
  {
   "cell_type": "code",
   "execution_count": 32,
   "metadata": {},
   "outputs": [],
   "source": [
    "def print_cv_summary(cv_data):\n",
    "    cv_data.head(10)\n",
    "    mean_value = cv_data['test-RMSE-mean'].mean()\n",
    "    best_value = cv_data['test-RMSE-mean'].min()\n",
    "    print(f'Mean: {mean_value}, best: {best_value}')"
   ]
  },
  {
   "cell_type": "code",
   "execution_count": 33,
   "metadata": {},
   "outputs": [
    {
     "name": "stdout",
     "output_type": "stream",
     "text": [
      "Training on fold [0/10]\n",
      "\n",
      "bestTest = 168447.7806\n",
      "bestIteration = 2\n",
      "\n",
      "Training on fold [1/10]\n",
      "\n",
      "bestTest = 124240.705\n",
      "bestIteration = 10\n",
      "\n",
      "Training on fold [2/10]\n",
      "\n",
      "bestTest = 144053.5796\n",
      "bestIteration = 29\n",
      "\n",
      "Training on fold [3/10]\n",
      "\n",
      "bestTest = 141694.7142\n",
      "bestIteration = 29\n",
      "\n",
      "Training on fold [4/10]\n",
      "\n",
      "bestTest = 148537.5913\n",
      "bestIteration = 29\n",
      "\n",
      "Training on fold [5/10]\n",
      "\n",
      "bestTest = 124954.071\n",
      "bestIteration = 29\n",
      "\n",
      "Training on fold [6/10]\n",
      "\n",
      "bestTest = 159294.9328\n",
      "bestIteration = 0\n",
      "\n",
      "Training on fold [7/10]\n",
      "\n",
      "bestTest = 1594518.8\n",
      "bestIteration = 3\n",
      "\n",
      "Training on fold [8/10]\n",
      "\n",
      "bestTest = 6356611.859\n",
      "bestIteration = 15\n",
      "\n",
      "Training on fold [9/10]\n",
      "\n",
      "bestTest = 153662.8504\n",
      "bestIteration = 29\n",
      "\n",
      "Training on fold [0/10]\n",
      "\n",
      "bestTest = 167357.9069\n",
      "bestIteration = 3\n",
      "\n",
      "Training on fold [1/10]\n",
      "\n",
      "bestTest = 136617.9206\n",
      "bestIteration = 3\n",
      "\n",
      "Training on fold [2/10]\n",
      "\n",
      "bestTest = 151845.3182\n",
      "bestIteration = 3\n",
      "\n",
      "Training on fold [3/10]\n",
      "\n",
      "bestTest = 165432.7795\n",
      "bestIteration = 3\n",
      "\n",
      "Training on fold [4/10]\n",
      "\n",
      "bestTest = 164606.4954\n",
      "bestIteration = 3\n",
      "\n",
      "Training on fold [5/10]\n",
      "\n",
      "bestTest = 1581323.987\n",
      "bestIteration = 9\n",
      "\n",
      "Training on fold [6/10]\n",
      "\n",
      "bestTest = 125674.9291\n",
      "bestIteration = 29\n",
      "\n",
      "Training on fold [7/10]\n",
      "\n",
      "bestTest = 1596727.698\n",
      "bestIteration = 0\n",
      "\n",
      "Training on fold [8/10]\n",
      "\n",
      "bestTest = 6355424.963\n",
      "bestIteration = 29\n",
      "\n",
      "Training on fold [9/10]\n",
      "\n",
      "bestTest = 140215.7481\n",
      "bestIteration = 2\n",
      "\n",
      "Training on fold [0/10]\n",
      "\n",
      "bestTest = 173570.0127\n",
      "bestIteration = 2\n",
      "\n",
      "Training on fold [1/10]\n",
      "\n",
      "bestTest = 137838.6287\n",
      "bestIteration = 3\n",
      "\n",
      "Training on fold [2/10]\n",
      "\n",
      "bestTest = 156322.2126\n",
      "bestIteration = 2\n",
      "\n",
      "Training on fold [3/10]\n",
      "\n",
      "bestTest = 154767.4762\n",
      "bestIteration = 4\n",
      "\n",
      "Training on fold [4/10]\n",
      "\n",
      "bestTest = 161330.9105\n",
      "bestIteration = 29\n",
      "\n",
      "Training on fold [5/10]\n",
      "\n",
      "bestTest = 195962.5381\n",
      "bestIteration = 0\n",
      "\n",
      "Training on fold [6/10]\n",
      "\n",
      "bestTest = 104541.982\n",
      "bestIteration = 29\n",
      "\n",
      "Training on fold [7/10]\n",
      "\n",
      "bestTest = 1597765.259\n",
      "bestIteration = 0\n",
      "\n",
      "Training on fold [8/10]\n",
      "\n",
      "bestTest = 6356378.895\n",
      "bestIteration = 21\n",
      "\n",
      "Training on fold [9/10]\n",
      "\n",
      "bestTest = 124293.3979\n",
      "bestIteration = 28\n",
      "\n",
      "Training on fold [0/10]\n",
      "\n",
      "bestTest = 114009.4083\n",
      "bestIteration = 28\n",
      "\n",
      "Training on fold [1/10]\n",
      "\n",
      "bestTest = 130794.6735\n",
      "bestIteration = 6\n",
      "\n",
      "Training on fold [2/10]\n",
      "\n",
      "bestTest = 122779.4988\n",
      "bestIteration = 29\n",
      "\n",
      "Training on fold [3/10]\n",
      "\n",
      "bestTest = 133360.5634\n",
      "bestIteration = 29\n",
      "\n",
      "Training on fold [4/10]\n",
      "\n",
      "bestTest = 191206.1225\n",
      "bestIteration = 1\n",
      "\n",
      "Training on fold [5/10]\n",
      "\n",
      "bestTest = 110065.3809\n",
      "bestIteration = 29\n",
      "\n",
      "Training on fold [6/10]\n",
      "\n",
      "bestTest = 102726.2737\n",
      "bestIteration = 29\n",
      "\n",
      "Training on fold [7/10]\n",
      "\n",
      "bestTest = 1594318.494\n",
      "bestIteration = 2\n",
      "\n",
      "Training on fold [8/10]\n",
      "\n",
      "bestTest = 6356693.636\n",
      "bestIteration = 29\n",
      "\n",
      "Training on fold [9/10]\n",
      "\n",
      "bestTest = 123979.4198\n",
      "bestIteration = 29\n",
      "\n"
     ]
    }
   ],
   "source": [
    "for data_f, target, f_indecies in zip([ll_data, c_data, f_data, ll_without_voiv_data], [ll_target, c_target, f_target, ll_without_voiv_target], [ll_features_indecies, c_features_indecies, f_features_indecies, ll_without_voiv_indecies]):\n",
    "    # X_train, X_test, y_train, y_test = train_test_split(data_f, target, test_size = 0.2, random_state=5)\n",
    "    cv_dataset = cb.Pool(data_f, target, cat_features=f_indecies)\n",
    "\n",
    "    scores = cb.cv(cv_dataset,\n",
    "            params_cv_city,\n",
    "            fold_count=10, \n",
    "            plot=False,\n",
    "            shuffle=True,\n",
    "            stratified=False,\n",
    "            verbose=False)\n",
    "    city_scores.append(scores)"
   ]
  },
  {
   "cell_type": "code",
   "execution_count": 34,
   "metadata": {},
   "outputs": [
    {
     "name": "stdout",
     "output_type": "stream",
     "text": [
      "Mean: 1033288.7765918208, best: 953635.0920482666\n",
      "Mean: 1472208.2352355677, best: 1063865.0218347604\n",
      "Mean: 1391875.3015256387, best: 1000255.9054869211\n",
      "Mean: 1089738.6993621055, best: 935008.2903553859\n"
     ]
    }
   ],
   "source": [
    "for cs in city_scores:\n",
    "    print_cv_summary(cs)"
   ]
  },
  {
   "cell_type": "markdown",
   "metadata": {},
   "source": [
    "Long and lad give the best results - remove city from dataset"
   ]
  },
  {
   "cell_type": "markdown",
   "metadata": {},
   "source": [
    "Voivodeship less error range"
   ]
  },
  {
   "cell_type": "code",
   "execution_count": 94,
   "metadata": {},
   "outputs": [],
   "source": [
    "data = data.drop(columns=['city_name'])"
   ]
  },
  {
   "cell_type": "code",
   "execution_count": 37,
   "metadata": {},
   "outputs": [],
   "source": [
    "data.to_csv('data/prepared_data.csv', index=False)"
   ]
  },
  {
   "cell_type": "markdown",
   "metadata": {},
   "source": [
    "# First model"
   ]
  },
  {
   "cell_type": "code",
   "execution_count": 38,
   "metadata": {},
   "outputs": [
    {
     "ename": "SyntaxError",
     "evalue": "Missing parentheses in call to 'print'. Did you mean print('a')? (2996665661.py, line 1)",
     "output_type": "error",
     "traceback": [
      "\u001b[0;36m  File \u001b[0;32m\"/tmp/ipykernel_67529/2996665661.py\"\u001b[0;36m, line \u001b[0;32m1\u001b[0m\n\u001b[0;31m    print 'a'\u001b[0m\n\u001b[0m          ^\u001b[0m\n\u001b[0;31mSyntaxError\u001b[0m\u001b[0;31m:\u001b[0m Missing parentheses in call to 'print'. Did you mean print('a')?\n"
     ]
    }
   ],
   "source": [
    "print 'a'"
   ]
  },
  {
   "cell_type": "code",
   "execution_count": null,
   "metadata": {},
   "outputs": [],
   "source": [
    "cat_features_indecies = [0, 4, 5, 6, 7, 8]"
   ]
  },
  {
   "cell_type": "code",
   "execution_count": null,
   "metadata": {},
   "outputs": [],
   "source": [
    "X_train, X_test, y_train, y_test = train_test_split(data.drop(columns=['price']), data['price'], test_size = 0.2, random_state=5)"
   ]
  },
  {
   "cell_type": "code",
   "execution_count": null,
   "metadata": {},
   "outputs": [],
   "source": [
    "train_dataset = cb.Pool(X_train, y_train, cat_features=cat_features_indecies) \n",
    "test_dataset = cb.Pool(X_test, y_test, cat_features=cat_features_indecies)"
   ]
  },
  {
   "cell_type": "code",
   "execution_count": null,
   "metadata": {},
   "outputs": [],
   "source": [
    "model = CatBoostRegressor(iterations=33,\n",
    "                          learning_rate=1,\n",
    "                          depth=10,\n",
    "                          loss_function='RMSE')"
   ]
  },
  {
   "cell_type": "code",
   "execution_count": null,
   "metadata": {},
   "outputs": [
    {
     "name": "stdout",
     "output_type": "stream",
     "text": [
      "0:\tlearn: 2253986.9813076\ttotal: 4.86ms\tremaining: 156ms\n",
      "1:\tlearn: 1694114.0105243\ttotal: 24.2ms\tremaining: 375ms\n",
      "2:\tlearn: 1275027.0722555\ttotal: 44.8ms\tremaining: 448ms\n",
      "3:\tlearn: 962891.0320805\ttotal: 74.7ms\tremaining: 542ms\n",
      "4:\tlearn: 957118.1520790\ttotal: 97.3ms\tremaining: 545ms\n",
      "5:\tlearn: 953557.4759838\ttotal: 122ms\tremaining: 548ms\n",
      "6:\tlearn: 953086.7988851\ttotal: 138ms\tremaining: 514ms\n",
      "7:\tlearn: 951771.7536926\ttotal: 160ms\tremaining: 501ms\n",
      "8:\tlearn: 949977.5637577\ttotal: 185ms\tremaining: 493ms\n",
      "9:\tlearn: 949831.1644769\ttotal: 209ms\tremaining: 482ms\n",
      "10:\tlearn: 719397.8664436\ttotal: 229ms\tremaining: 458ms\n",
      "11:\tlearn: 548082.4040857\ttotal: 256ms\tremaining: 448ms\n",
      "12:\tlearn: 547684.3583962\ttotal: 289ms\tremaining: 444ms\n",
      "13:\tlearn: 541736.7928434\ttotal: 321ms\tremaining: 435ms\n",
      "14:\tlearn: 540693.8567408\ttotal: 351ms\tremaining: 422ms\n",
      "15:\tlearn: 457023.5004890\ttotal: 375ms\tremaining: 399ms\n",
      "16:\tlearn: 356052.5715632\ttotal: 401ms\tremaining: 378ms\n",
      "17:\tlearn: 352069.0852595\ttotal: 431ms\tremaining: 359ms\n",
      "18:\tlearn: 343294.6025068\ttotal: 460ms\tremaining: 339ms\n",
      "19:\tlearn: 342261.6820358\ttotal: 492ms\tremaining: 320ms\n",
      "20:\tlearn: 267985.3323946\ttotal: 520ms\tremaining: 297ms\n",
      "21:\tlearn: 218934.0982391\ttotal: 562ms\tremaining: 281ms\n",
      "22:\tlearn: 218119.1850406\ttotal: 595ms\tremaining: 259ms\n",
      "23:\tlearn: 185289.0033958\ttotal: 631ms\tremaining: 237ms\n",
      "24:\tlearn: 162906.7597139\ttotal: 671ms\tremaining: 215ms\n",
      "25:\tlearn: 161412.1473848\ttotal: 726ms\tremaining: 195ms\n",
      "26:\tlearn: 160061.0891890\ttotal: 818ms\tremaining: 182ms\n",
      "27:\tlearn: 138497.1169780\ttotal: 861ms\tremaining: 154ms\n",
      "28:\tlearn: 136823.6743318\ttotal: 908ms\tremaining: 125ms\n",
      "29:\tlearn: 136719.8679359\ttotal: 950ms\tremaining: 95ms\n",
      "30:\tlearn: 135595.5697282\ttotal: 985ms\tremaining: 63.5ms\n",
      "31:\tlearn: 133956.9148588\ttotal: 1.02s\tremaining: 31.8ms\n",
      "32:\tlearn: 133473.3553274\ttotal: 1.06s\tremaining: 0us\n"
     ]
    },
    {
     "data": {
      "text/plain": [
       "<catboost.core.CatBoostRegressor at 0x7f128d27a760>"
      ]
     },
     "execution_count": 108,
     "metadata": {},
     "output_type": "execute_result"
    }
   ],
   "source": [
    "model.fit(train_dataset)"
   ]
  },
  {
   "cell_type": "code",
   "execution_count": null,
   "metadata": {},
   "outputs": [],
   "source": [
    "preds = model.predict(test_dataset)"
   ]
  },
  {
   "cell_type": "code",
   "execution_count": null,
   "metadata": {},
   "outputs": [
    {
     "data": {
      "text/plain": [
       "0.5166794507948574"
      ]
     },
     "execution_count": 110,
     "metadata": {},
     "output_type": "execute_result"
    }
   ],
   "source": [
    "r2_score(y_test, preds)"
   ]
  },
  {
   "cell_type": "code",
   "execution_count": null,
   "metadata": {},
   "outputs": [
    {
     "data": {
      "image/png": "[encoded data removed]",
      "text/plain": [
       "<Figure size 720x720 with 1 Axes>"
      ]
     },
     "metadata": {
      "needs_background": "light"
     },
     "output_type": "display_data"
    }
   ],
   "source": [
    "plt.figure(figsize=(10, 10))\n",
    "plt.scatter(y_test, preds)\n",
    "# plt.plot(y_test)\n",
    "plt.show()"
   ]
  }
 ],
 "metadata": {
  "interpreter": {
   "hash": "767d51c1340bd893661ea55ea3124f6de3c7a262a8b4abca0554b478b1e2ff90"
  },
  "kernelspec": {
   "display_name": "Python 3.9.13 64-bit",
   "language": "python",
   "name": "python3"
  },
  "language_info": {
   "codemirror_mode": {
    "name": "ipython",
    "version": 3
   },
   "file_extension": ".py",
   "mimetype": "text/x-python",
   "name": "python",
   "nbconvert_exporter": "python",
   "pygments_lexer": "ipython3",
   "version": "3.9.13"
  },
  "orig_nbformat": 4
 },
 "nbformat": 4,
 "nbformat_minor": 2
}
